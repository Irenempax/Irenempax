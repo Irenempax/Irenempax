{
  "nbformat": 4,
  "nbformat_minor": 0,
  "metadata": {
    "colab": {
      "provenance": [],
      "authorship_tag": "ABX9TyNPpqr3Gyk0hLDhJpB/BzUI",
      "include_colab_link": true
    },
    "kernelspec": {
      "name": "python3",
      "display_name": "Python 3"
    },
    "language_info": {
      "name": "python"
    }
  },
  "cells": [
    {
      "cell_type": "markdown",
      "metadata": {
        "id": "view-in-github",
        "colab_type": "text"
      },
      "source": [
        "<a href=\"https://colab.research.google.com/github/Irenempax/Irenempax/blob/main/Untitled7.ipynb\" target=\"_parent\"><img src=\"https://colab.research.google.com/assets/colab-badge.svg\" alt=\"Open In Colab\"/></a>"
      ]
    },
    {
      "cell_type": "code",
      "execution_count": null,
      "metadata": {
        "colab": {
          "base_uri": "https://localhost:8080/",
          "height": 73
        },
        "id": "wwodHMVNt3Ag",
        "outputId": "60c86c84-1963-4067-f257-3fb8f9abdeb7"
      },
      "outputs": [
        {
          "output_type": "display_data",
          "data": {
            "text/plain": [
              "<IPython.core.display.HTML object>"
            ],
            "text/html": [
              "\n",
              "     <input type=\"file\" id=\"files-f14eebca-4f09-4950-9982-b2cfcfa214ae\" name=\"files[]\" multiple disabled\n",
              "        style=\"border:none\" />\n",
              "     <output id=\"result-f14eebca-4f09-4950-9982-b2cfcfa214ae\">\n",
              "      Upload widget is only available when the cell has been executed in the\n",
              "      current browser session. Please rerun this cell to enable.\n",
              "      </output>\n",
              "      <script>// Copyright 2017 Google LLC\n",
              "//\n",
              "// Licensed under the Apache License, Version 2.0 (the \"License\");\n",
              "// you may not use this file except in compliance with the License.\n",
              "// You may obtain a copy of the License at\n",
              "//\n",
              "//      http://www.apache.org/licenses/LICENSE-2.0\n",
              "//\n",
              "// Unless required by applicable law or agreed to in writing, software\n",
              "// distributed under the License is distributed on an \"AS IS\" BASIS,\n",
              "// WITHOUT WARRANTIES OR CONDITIONS OF ANY KIND, either express or implied.\n",
              "// See the License for the specific language governing permissions and\n",
              "// limitations under the License.\n",
              "\n",
              "/**\n",
              " * @fileoverview Helpers for google.colab Python module.\n",
              " */\n",
              "(function(scope) {\n",
              "function span(text, styleAttributes = {}) {\n",
              "  const element = document.createElement('span');\n",
              "  element.textContent = text;\n",
              "  for (const key of Object.keys(styleAttributes)) {\n",
              "    element.style[key] = styleAttributes[key];\n",
              "  }\n",
              "  return element;\n",
              "}\n",
              "\n",
              "// Max number of bytes which will be uploaded at a time.\n",
              "const MAX_PAYLOAD_SIZE = 100 * 1024;\n",
              "\n",
              "function _uploadFiles(inputId, outputId) {\n",
              "  const steps = uploadFilesStep(inputId, outputId);\n",
              "  const outputElement = document.getElementById(outputId);\n",
              "  // Cache steps on the outputElement to make it available for the next call\n",
              "  // to uploadFilesContinue from Python.\n",
              "  outputElement.steps = steps;\n",
              "\n",
              "  return _uploadFilesContinue(outputId);\n",
              "}\n",
              "\n",
              "// This is roughly an async generator (not supported in the browser yet),\n",
              "// where there are multiple asynchronous steps and the Python side is going\n",
              "// to poll for completion of each step.\n",
              "// This uses a Promise to block the python side on completion of each step,\n",
              "// then passes the result of the previous step as the input to the next step.\n",
              "function _uploadFilesContinue(outputId) {\n",
              "  const outputElement = document.getElementById(outputId);\n",
              "  const steps = outputElement.steps;\n",
              "\n",
              "  const next = steps.next(outputElement.lastPromiseValue);\n",
              "  return Promise.resolve(next.value.promise).then((value) => {\n",
              "    // Cache the last promise value to make it available to the next\n",
              "    // step of the generator.\n",
              "    outputElement.lastPromiseValue = value;\n",
              "    return next.value.response;\n",
              "  });\n",
              "}\n",
              "\n",
              "/**\n",
              " * Generator function which is called between each async step of the upload\n",
              " * process.\n",
              " * @param {string} inputId Element ID of the input file picker element.\n",
              " * @param {string} outputId Element ID of the output display.\n",
              " * @return {!Iterable<!Object>} Iterable of next steps.\n",
              " */\n",
              "function* uploadFilesStep(inputId, outputId) {\n",
              "  const inputElement = document.getElementById(inputId);\n",
              "  inputElement.disabled = false;\n",
              "\n",
              "  const outputElement = document.getElementById(outputId);\n",
              "  outputElement.innerHTML = '';\n",
              "\n",
              "  const pickedPromise = new Promise((resolve) => {\n",
              "    inputElement.addEventListener('change', (e) => {\n",
              "      resolve(e.target.files);\n",
              "    });\n",
              "  });\n",
              "\n",
              "  const cancel = document.createElement('button');\n",
              "  inputElement.parentElement.appendChild(cancel);\n",
              "  cancel.textContent = 'Cancel upload';\n",
              "  const cancelPromise = new Promise((resolve) => {\n",
              "    cancel.onclick = () => {\n",
              "      resolve(null);\n",
              "    };\n",
              "  });\n",
              "\n",
              "  // Wait for the user to pick the files.\n",
              "  const files = yield {\n",
              "    promise: Promise.race([pickedPromise, cancelPromise]),\n",
              "    response: {\n",
              "      action: 'starting',\n",
              "    }\n",
              "  };\n",
              "\n",
              "  cancel.remove();\n",
              "\n",
              "  // Disable the input element since further picks are not allowed.\n",
              "  inputElement.disabled = true;\n",
              "\n",
              "  if (!files) {\n",
              "    return {\n",
              "      response: {\n",
              "        action: 'complete',\n",
              "      }\n",
              "    };\n",
              "  }\n",
              "\n",
              "  for (const file of files) {\n",
              "    const li = document.createElement('li');\n",
              "    li.append(span(file.name, {fontWeight: 'bold'}));\n",
              "    li.append(span(\n",
              "        `(${file.type || 'n/a'}) - ${file.size} bytes, ` +\n",
              "        `last modified: ${\n",
              "            file.lastModifiedDate ? file.lastModifiedDate.toLocaleDateString() :\n",
              "                                    'n/a'} - `));\n",
              "    const percent = span('0% done');\n",
              "    li.appendChild(percent);\n",
              "\n",
              "    outputElement.appendChild(li);\n",
              "\n",
              "    const fileDataPromise = new Promise((resolve) => {\n",
              "      const reader = new FileReader();\n",
              "      reader.onload = (e) => {\n",
              "        resolve(e.target.result);\n",
              "      };\n",
              "      reader.readAsArrayBuffer(file);\n",
              "    });\n",
              "    // Wait for the data to be ready.\n",
              "    let fileData = yield {\n",
              "      promise: fileDataPromise,\n",
              "      response: {\n",
              "        action: 'continue',\n",
              "      }\n",
              "    };\n",
              "\n",
              "    // Use a chunked sending to avoid message size limits. See b/62115660.\n",
              "    let position = 0;\n",
              "    do {\n",
              "      const length = Math.min(fileData.byteLength - position, MAX_PAYLOAD_SIZE);\n",
              "      const chunk = new Uint8Array(fileData, position, length);\n",
              "      position += length;\n",
              "\n",
              "      const base64 = btoa(String.fromCharCode.apply(null, chunk));\n",
              "      yield {\n",
              "        response: {\n",
              "          action: 'append',\n",
              "          file: file.name,\n",
              "          data: base64,\n",
              "        },\n",
              "      };\n",
              "\n",
              "      let percentDone = fileData.byteLength === 0 ?\n",
              "          100 :\n",
              "          Math.round((position / fileData.byteLength) * 100);\n",
              "      percent.textContent = `${percentDone}% done`;\n",
              "\n",
              "    } while (position < fileData.byteLength);\n",
              "  }\n",
              "\n",
              "  // All done.\n",
              "  yield {\n",
              "    response: {\n",
              "      action: 'complete',\n",
              "    }\n",
              "  };\n",
              "}\n",
              "\n",
              "scope.google = scope.google || {};\n",
              "scope.google.colab = scope.google.colab || {};\n",
              "scope.google.colab._files = {\n",
              "  _uploadFiles,\n",
              "  _uploadFilesContinue,\n",
              "};\n",
              "})(self);\n",
              "</script> "
            ]
          },
          "metadata": {}
        },
        {
          "output_type": "stream",
          "name": "stdout",
          "text": [
            "Saving mental-state.csv to mental-state.csv\n"
          ]
        }
      ],
      "source": [
        "from google.colab import files\n",
        "uploaded = files.upload()  # This will prompt you to upload the file\n"
      ]
    },
    {
      "cell_type": "code",
      "source": [
        "import pandas as pd\n",
        "\n",
        "# Load the dataset (replace 'mental-state.csv' with your file's name if different)\n",
        "data = pd.read_csv('mental-state.csv')\n",
        "\n",
        "# Check the first few rows\n",
        "data.head()\n"
      ],
      "metadata": {
        "colab": {
          "base_uri": "https://localhost:8080/",
          "height": 255
        },
        "id": "fLwiJ4s5t4E_",
        "outputId": "e3b333b3-2dd8-4d26-8b69-5c1fc5d06836"
      },
      "execution_count": null,
      "outputs": [
        {
          "output_type": "execute_result",
          "data": {
            "text/plain": [
              "   lag1_mean_0  lag1_mean_1  lag1_mean_2  lag1_mean_3  lag1_mean_d_h2h1_0  \\\n",
              "0    25.781648    33.836367   -92.769629    19.187957           -1.542262   \n",
              "1    29.357891    26.792566   417.203910    19.472121          -38.797263   \n",
              "2    28.451926    31.076434    72.231301    14.245938          -13.225057   \n",
              "3    21.282184    19.985184    16.220094    39.787312            1.847866   \n",
              "4    20.431516    28.982168    27.540246    19.960398            2.491458   \n",
              "\n",
              "   lag1_mean_d_h2h1_1  lag1_mean_d_h2h1_2  lag1_mean_d_h2h1_3  lag1_mean_q1_0  \\\n",
              "0            0.197462         -119.561133            2.032654       21.596272   \n",
              "1          -16.897194          -29.368531           -9.055370       44.647424   \n",
              "2           -0.614138          -28.331698           -8.858742       31.450289   \n",
              "3            0.670216           -1.820355           20.220724       21.404679   \n",
              "4           -6.020503           -1.071166            2.655259       16.295039   \n",
              "\n",
              "   lag1_mean_q1_1  ...  freq_669_3  freq_679_3  freq_689_3  freq_699_3  \\\n",
              "0       33.965587  ...    0.000230    0.000351    0.000547    0.000381   \n",
              "1       40.893307  ...    0.001671    0.000740    0.001122    0.000521   \n",
              "2       30.692883  ...    0.000748    0.000569    0.000327    0.000197   \n",
              "3       20.777411  ...    0.000990    0.005644    0.006891    0.010546   \n",
              "4       32.658163  ...    0.001659    0.014379    0.014492    0.002949   \n",
              "\n",
              "   freq_709_3  freq_720_3  freq_730_3  freq_740_3  freq_750_3  Label  \n",
              "0    0.000350    0.000453    0.000442    0.000325    0.000209    2.0  \n",
              "1    0.000624    0.000439    0.001249    0.000727    0.000801    2.0  \n",
              "2    0.000833    0.000909    0.000699    0.001165    0.000616    2.0  \n",
              "3    0.009583    0.011158    0.008853    0.004551    0.002287    1.0  \n",
              "4    0.004575    0.008305    0.007202    0.006957    0.009836    2.0  \n",
              "\n",
              "[5 rows x 989 columns]"
            ],
            "text/html": [
              "\n",
              "  <div id=\"df-1282b6da-8032-43c3-8d82-2bc56e416882\" class=\"colab-df-container\">\n",
              "    <div>\n",
              "<style scoped>\n",
              "    .dataframe tbody tr th:only-of-type {\n",
              "        vertical-align: middle;\n",
              "    }\n",
              "\n",
              "    .dataframe tbody tr th {\n",
              "        vertical-align: top;\n",
              "    }\n",
              "\n",
              "    .dataframe thead th {\n",
              "        text-align: right;\n",
              "    }\n",
              "</style>\n",
              "<table border=\"1\" class=\"dataframe\">\n",
              "  <thead>\n",
              "    <tr style=\"text-align: right;\">\n",
              "      <th></th>\n",
              "      <th>lag1_mean_0</th>\n",
              "      <th>lag1_mean_1</th>\n",
              "      <th>lag1_mean_2</th>\n",
              "      <th>lag1_mean_3</th>\n",
              "      <th>lag1_mean_d_h2h1_0</th>\n",
              "      <th>lag1_mean_d_h2h1_1</th>\n",
              "      <th>lag1_mean_d_h2h1_2</th>\n",
              "      <th>lag1_mean_d_h2h1_3</th>\n",
              "      <th>lag1_mean_q1_0</th>\n",
              "      <th>lag1_mean_q1_1</th>\n",
              "      <th>...</th>\n",
              "      <th>freq_669_3</th>\n",
              "      <th>freq_679_3</th>\n",
              "      <th>freq_689_3</th>\n",
              "      <th>freq_699_3</th>\n",
              "      <th>freq_709_3</th>\n",
              "      <th>freq_720_3</th>\n",
              "      <th>freq_730_3</th>\n",
              "      <th>freq_740_3</th>\n",
              "      <th>freq_750_3</th>\n",
              "      <th>Label</th>\n",
              "    </tr>\n",
              "  </thead>\n",
              "  <tbody>\n",
              "    <tr>\n",
              "      <th>0</th>\n",
              "      <td>25.781648</td>\n",
              "      <td>33.836367</td>\n",
              "      <td>-92.769629</td>\n",
              "      <td>19.187957</td>\n",
              "      <td>-1.542262</td>\n",
              "      <td>0.197462</td>\n",
              "      <td>-119.561133</td>\n",
              "      <td>2.032654</td>\n",
              "      <td>21.596272</td>\n",
              "      <td>33.965587</td>\n",
              "      <td>...</td>\n",
              "      <td>0.000230</td>\n",
              "      <td>0.000351</td>\n",
              "      <td>0.000547</td>\n",
              "      <td>0.000381</td>\n",
              "      <td>0.000350</td>\n",
              "      <td>0.000453</td>\n",
              "      <td>0.000442</td>\n",
              "      <td>0.000325</td>\n",
              "      <td>0.000209</td>\n",
              "      <td>2.0</td>\n",
              "    </tr>\n",
              "    <tr>\n",
              "      <th>1</th>\n",
              "      <td>29.357891</td>\n",
              "      <td>26.792566</td>\n",
              "      <td>417.203910</td>\n",
              "      <td>19.472121</td>\n",
              "      <td>-38.797263</td>\n",
              "      <td>-16.897194</td>\n",
              "      <td>-29.368531</td>\n",
              "      <td>-9.055370</td>\n",
              "      <td>44.647424</td>\n",
              "      <td>40.893307</td>\n",
              "      <td>...</td>\n",
              "      <td>0.001671</td>\n",
              "      <td>0.000740</td>\n",
              "      <td>0.001122</td>\n",
              "      <td>0.000521</td>\n",
              "      <td>0.000624</td>\n",
              "      <td>0.000439</td>\n",
              "      <td>0.001249</td>\n",
              "      <td>0.000727</td>\n",
              "      <td>0.000801</td>\n",
              "      <td>2.0</td>\n",
              "    </tr>\n",
              "    <tr>\n",
              "      <th>2</th>\n",
              "      <td>28.451926</td>\n",
              "      <td>31.076434</td>\n",
              "      <td>72.231301</td>\n",
              "      <td>14.245938</td>\n",
              "      <td>-13.225057</td>\n",
              "      <td>-0.614138</td>\n",
              "      <td>-28.331698</td>\n",
              "      <td>-8.858742</td>\n",
              "      <td>31.450289</td>\n",
              "      <td>30.692883</td>\n",
              "      <td>...</td>\n",
              "      <td>0.000748</td>\n",
              "      <td>0.000569</td>\n",
              "      <td>0.000327</td>\n",
              "      <td>0.000197</td>\n",
              "      <td>0.000833</td>\n",
              "      <td>0.000909</td>\n",
              "      <td>0.000699</td>\n",
              "      <td>0.001165</td>\n",
              "      <td>0.000616</td>\n",
              "      <td>2.0</td>\n",
              "    </tr>\n",
              "    <tr>\n",
              "      <th>3</th>\n",
              "      <td>21.282184</td>\n",
              "      <td>19.985184</td>\n",
              "      <td>16.220094</td>\n",
              "      <td>39.787312</td>\n",
              "      <td>1.847866</td>\n",
              "      <td>0.670216</td>\n",
              "      <td>-1.820355</td>\n",
              "      <td>20.220724</td>\n",
              "      <td>21.404679</td>\n",
              "      <td>20.777411</td>\n",
              "      <td>...</td>\n",
              "      <td>0.000990</td>\n",
              "      <td>0.005644</td>\n",
              "      <td>0.006891</td>\n",
              "      <td>0.010546</td>\n",
              "      <td>0.009583</td>\n",
              "      <td>0.011158</td>\n",
              "      <td>0.008853</td>\n",
              "      <td>0.004551</td>\n",
              "      <td>0.002287</td>\n",
              "      <td>1.0</td>\n",
              "    </tr>\n",
              "    <tr>\n",
              "      <th>4</th>\n",
              "      <td>20.431516</td>\n",
              "      <td>28.982168</td>\n",
              "      <td>27.540246</td>\n",
              "      <td>19.960398</td>\n",
              "      <td>2.491458</td>\n",
              "      <td>-6.020503</td>\n",
              "      <td>-1.071166</td>\n",
              "      <td>2.655259</td>\n",
              "      <td>16.295039</td>\n",
              "      <td>32.658163</td>\n",
              "      <td>...</td>\n",
              "      <td>0.001659</td>\n",
              "      <td>0.014379</td>\n",
              "      <td>0.014492</td>\n",
              "      <td>0.002949</td>\n",
              "      <td>0.004575</td>\n",
              "      <td>0.008305</td>\n",
              "      <td>0.007202</td>\n",
              "      <td>0.006957</td>\n",
              "      <td>0.009836</td>\n",
              "      <td>2.0</td>\n",
              "    </tr>\n",
              "  </tbody>\n",
              "</table>\n",
              "<p>5 rows × 989 columns</p>\n",
              "</div>\n",
              "    <div class=\"colab-df-buttons\">\n",
              "\n",
              "  <div class=\"colab-df-container\">\n",
              "    <button class=\"colab-df-convert\" onclick=\"convertToInteractive('df-1282b6da-8032-43c3-8d82-2bc56e416882')\"\n",
              "            title=\"Convert this dataframe to an interactive table.\"\n",
              "            style=\"display:none;\">\n",
              "\n",
              "  <svg xmlns=\"http://www.w3.org/2000/svg\" height=\"24px\" viewBox=\"0 -960 960 960\">\n",
              "    <path d=\"M120-120v-720h720v720H120Zm60-500h600v-160H180v160Zm220 220h160v-160H400v160Zm0 220h160v-160H400v160ZM180-400h160v-160H180v160Zm440 0h160v-160H620v160ZM180-180h160v-160H180v160Zm440 0h160v-160H620v160Z\"/>\n",
              "  </svg>\n",
              "    </button>\n",
              "\n",
              "  <style>\n",
              "    .colab-df-container {\n",
              "      display:flex;\n",
              "      gap: 12px;\n",
              "    }\n",
              "\n",
              "    .colab-df-convert {\n",
              "      background-color: #E8F0FE;\n",
              "      border: none;\n",
              "      border-radius: 50%;\n",
              "      cursor: pointer;\n",
              "      display: none;\n",
              "      fill: #1967D2;\n",
              "      height: 32px;\n",
              "      padding: 0 0 0 0;\n",
              "      width: 32px;\n",
              "    }\n",
              "\n",
              "    .colab-df-convert:hover {\n",
              "      background-color: #E2EBFA;\n",
              "      box-shadow: 0px 1px 2px rgba(60, 64, 67, 0.3), 0px 1px 3px 1px rgba(60, 64, 67, 0.15);\n",
              "      fill: #174EA6;\n",
              "    }\n",
              "\n",
              "    .colab-df-buttons div {\n",
              "      margin-bottom: 4px;\n",
              "    }\n",
              "\n",
              "    [theme=dark] .colab-df-convert {\n",
              "      background-color: #3B4455;\n",
              "      fill: #D2E3FC;\n",
              "    }\n",
              "\n",
              "    [theme=dark] .colab-df-convert:hover {\n",
              "      background-color: #434B5C;\n",
              "      box-shadow: 0px 1px 3px 1px rgba(0, 0, 0, 0.15);\n",
              "      filter: drop-shadow(0px 1px 2px rgba(0, 0, 0, 0.3));\n",
              "      fill: #FFFFFF;\n",
              "    }\n",
              "  </style>\n",
              "\n",
              "    <script>\n",
              "      const buttonEl =\n",
              "        document.querySelector('#df-1282b6da-8032-43c3-8d82-2bc56e416882 button.colab-df-convert');\n",
              "      buttonEl.style.display =\n",
              "        google.colab.kernel.accessAllowed ? 'block' : 'none';\n",
              "\n",
              "      async function convertToInteractive(key) {\n",
              "        const element = document.querySelector('#df-1282b6da-8032-43c3-8d82-2bc56e416882');\n",
              "        const dataTable =\n",
              "          await google.colab.kernel.invokeFunction('convertToInteractive',\n",
              "                                                    [key], {});\n",
              "        if (!dataTable) return;\n",
              "\n",
              "        const docLinkHtml = 'Like what you see? Visit the ' +\n",
              "          '<a target=\"_blank\" href=https://colab.research.google.com/notebooks/data_table.ipynb>data table notebook</a>'\n",
              "          + ' to learn more about interactive tables.';\n",
              "        element.innerHTML = '';\n",
              "        dataTable['output_type'] = 'display_data';\n",
              "        await google.colab.output.renderOutput(dataTable, element);\n",
              "        const docLink = document.createElement('div');\n",
              "        docLink.innerHTML = docLinkHtml;\n",
              "        element.appendChild(docLink);\n",
              "      }\n",
              "    </script>\n",
              "  </div>\n",
              "\n",
              "\n",
              "<div id=\"df-56c09287-dd7c-43f6-884e-98f3de22d84d\">\n",
              "  <button class=\"colab-df-quickchart\" onclick=\"quickchart('df-56c09287-dd7c-43f6-884e-98f3de22d84d')\"\n",
              "            title=\"Suggest charts\"\n",
              "            style=\"display:none;\">\n",
              "\n",
              "<svg xmlns=\"http://www.w3.org/2000/svg\" height=\"24px\"viewBox=\"0 0 24 24\"\n",
              "     width=\"24px\">\n",
              "    <g>\n",
              "        <path d=\"M19 3H5c-1.1 0-2 .9-2 2v14c0 1.1.9 2 2 2h14c1.1 0 2-.9 2-2V5c0-1.1-.9-2-2-2zM9 17H7v-7h2v7zm4 0h-2V7h2v10zm4 0h-2v-4h2v4z\"/>\n",
              "    </g>\n",
              "</svg>\n",
              "  </button>\n",
              "\n",
              "<style>\n",
              "  .colab-df-quickchart {\n",
              "      --bg-color: #E8F0FE;\n",
              "      --fill-color: #1967D2;\n",
              "      --hover-bg-color: #E2EBFA;\n",
              "      --hover-fill-color: #174EA6;\n",
              "      --disabled-fill-color: #AAA;\n",
              "      --disabled-bg-color: #DDD;\n",
              "  }\n",
              "\n",
              "  [theme=dark] .colab-df-quickchart {\n",
              "      --bg-color: #3B4455;\n",
              "      --fill-color: #D2E3FC;\n",
              "      --hover-bg-color: #434B5C;\n",
              "      --hover-fill-color: #FFFFFF;\n",
              "      --disabled-bg-color: #3B4455;\n",
              "      --disabled-fill-color: #666;\n",
              "  }\n",
              "\n",
              "  .colab-df-quickchart {\n",
              "    background-color: var(--bg-color);\n",
              "    border: none;\n",
              "    border-radius: 50%;\n",
              "    cursor: pointer;\n",
              "    display: none;\n",
              "    fill: var(--fill-color);\n",
              "    height: 32px;\n",
              "    padding: 0;\n",
              "    width: 32px;\n",
              "  }\n",
              "\n",
              "  .colab-df-quickchart:hover {\n",
              "    background-color: var(--hover-bg-color);\n",
              "    box-shadow: 0 1px 2px rgba(60, 64, 67, 0.3), 0 1px 3px 1px rgba(60, 64, 67, 0.15);\n",
              "    fill: var(--button-hover-fill-color);\n",
              "  }\n",
              "\n",
              "  .colab-df-quickchart-complete:disabled,\n",
              "  .colab-df-quickchart-complete:disabled:hover {\n",
              "    background-color: var(--disabled-bg-color);\n",
              "    fill: var(--disabled-fill-color);\n",
              "    box-shadow: none;\n",
              "  }\n",
              "\n",
              "  .colab-df-spinner {\n",
              "    border: 2px solid var(--fill-color);\n",
              "    border-color: transparent;\n",
              "    border-bottom-color: var(--fill-color);\n",
              "    animation:\n",
              "      spin 1s steps(1) infinite;\n",
              "  }\n",
              "\n",
              "  @keyframes spin {\n",
              "    0% {\n",
              "      border-color: transparent;\n",
              "      border-bottom-color: var(--fill-color);\n",
              "      border-left-color: var(--fill-color);\n",
              "    }\n",
              "    20% {\n",
              "      border-color: transparent;\n",
              "      border-left-color: var(--fill-color);\n",
              "      border-top-color: var(--fill-color);\n",
              "    }\n",
              "    30% {\n",
              "      border-color: transparent;\n",
              "      border-left-color: var(--fill-color);\n",
              "      border-top-color: var(--fill-color);\n",
              "      border-right-color: var(--fill-color);\n",
              "    }\n",
              "    40% {\n",
              "      border-color: transparent;\n",
              "      border-right-color: var(--fill-color);\n",
              "      border-top-color: var(--fill-color);\n",
              "    }\n",
              "    60% {\n",
              "      border-color: transparent;\n",
              "      border-right-color: var(--fill-color);\n",
              "    }\n",
              "    80% {\n",
              "      border-color: transparent;\n",
              "      border-right-color: var(--fill-color);\n",
              "      border-bottom-color: var(--fill-color);\n",
              "    }\n",
              "    90% {\n",
              "      border-color: transparent;\n",
              "      border-bottom-color: var(--fill-color);\n",
              "    }\n",
              "  }\n",
              "</style>\n",
              "\n",
              "  <script>\n",
              "    async function quickchart(key) {\n",
              "      const quickchartButtonEl =\n",
              "        document.querySelector('#' + key + ' button');\n",
              "      quickchartButtonEl.disabled = true;  // To prevent multiple clicks.\n",
              "      quickchartButtonEl.classList.add('colab-df-spinner');\n",
              "      try {\n",
              "        const charts = await google.colab.kernel.invokeFunction(\n",
              "            'suggestCharts', [key], {});\n",
              "      } catch (error) {\n",
              "        console.error('Error during call to suggestCharts:', error);\n",
              "      }\n",
              "      quickchartButtonEl.classList.remove('colab-df-spinner');\n",
              "      quickchartButtonEl.classList.add('colab-df-quickchart-complete');\n",
              "    }\n",
              "    (() => {\n",
              "      let quickchartButtonEl =\n",
              "        document.querySelector('#df-56c09287-dd7c-43f6-884e-98f3de22d84d button');\n",
              "      quickchartButtonEl.style.display =\n",
              "        google.colab.kernel.accessAllowed ? 'block' : 'none';\n",
              "    })();\n",
              "  </script>\n",
              "</div>\n",
              "\n",
              "    </div>\n",
              "  </div>\n"
            ],
            "application/vnd.google.colaboratory.intrinsic+json": {
              "type": "dataframe",
              "variable_name": "data"
            }
          },
          "metadata": {},
          "execution_count": 2
        }
      ]
    },
    {
      "cell_type": "code",
      "source": [
        "# Separate the features (X) and the labels (y)\n",
        "X = data.drop('Label', axis=1)  # Assuming 'Label' is the column with the target values\n",
        "y = data['Label']  # Target values (mental states)\n"
      ],
      "metadata": {
        "id": "pgg4a1I0x2Su"
      },
      "execution_count": null,
      "outputs": []
    },
    {
      "cell_type": "code",
      "source": [
        "from sklearn.model_selection import train_test_split\n",
        "\n",
        "# Split the dataset into training (80%) and testing (20%) sets\n",
        "X_train, X_test, y_train, y_test = train_test_split(X, y, test_size=0.2, random_state=42)\n"
      ],
      "metadata": {
        "id": "ooE8w9Etx9WG"
      },
      "execution_count": null,
      "outputs": []
    },
    {
      "cell_type": "code",
      "source": [
        "from sklearn.ensemble import RandomForestClassifier\n",
        "\n",
        "# Initialize the Random Forest Classifier\n",
        "clf = RandomForestClassifier(random_state=42)\n",
        "\n",
        "# Train the model\n",
        "clf.fit(X_train, y_train)\n",
        "\n",
        "# Predict on the test set\n",
        "y_pred = clf.predict(X_test)\n"
      ],
      "metadata": {
        "id": "SLMRDBb0yDLm"
      },
      "execution_count": null,
      "outputs": []
    },
    {
      "cell_type": "code",
      "source": [
        "from sklearn.metrics import accuracy_score\n",
        "\n",
        "# Calculate accuracy\n",
        "accuracy = accuracy_score(y_test, y_pred)\n",
        "print(f'Accuracy: {accuracy * 100:.2f}%')\n"
      ],
      "metadata": {
        "colab": {
          "base_uri": "https://localhost:8080/"
        },
        "id": "6USVe7O4yLI_",
        "outputId": "5f337d28-00ec-4bbf-9adf-6ae858e9f59b"
      },
      "execution_count": null,
      "outputs": [
        {
          "output_type": "stream",
          "name": "stdout",
          "text": [
            "Accuracy: 96.17%\n"
          ]
        }
      ]
    },
    {
      "cell_type": "code",
      "source": [
        "from sklearn.metrics import confusion_matrix\n",
        "import seaborn as sns\n",
        "import matplotlib.pyplot as plt\n",
        "\n",
        "# Generate and plot confusion matrix\n",
        "conf_matrix = confusion_matrix(y_test, y_pred)\n",
        "sns.heatmap(conf_matrix, annot=True, fmt='d', cmap='Blues')\n",
        "plt.xlabel('Predicted')\n",
        "plt.ylabel('Actual')\n",
        "plt.show()\n"
      ],
      "metadata": {
        "colab": {
          "base_uri": "https://localhost:8080/",
          "height": 450
        },
        "id": "tk_tFyXpykht",
        "outputId": "48b3aef7-cba7-4b77-daa8-7b5dece42200"
      },
      "execution_count": null,
      "outputs": [
        {
          "output_type": "display_data",
          "data": {
            "text/plain": [
              "<Figure size 640x480 with 2 Axes>"
            ],
            "image/png": "[encoded data removed]"
          },
          "metadata": {}
        }
      ]
    },
    {
      "cell_type": "code",
      "source": [
        "from sklearn.metrics import classification_report\n",
        "\n",
        "# Generate a classification report\n",
        "report = classification_report(y_test, y_pred)\n",
        "print(report)\n"
      ],
      "metadata": {
        "colab": {
          "base_uri": "https://localhost:8080/"
        },
        "id": "cDGaNlJcysFn",
        "outputId": "a28bc30f-cfe3-4700-ca60-1b0301ddeb40"
      },
      "execution_count": null,
      "outputs": [
        {
          "output_type": "stream",
          "name": "stdout",
          "text": [
            "              precision    recall  f1-score   support\n",
            "\n",
            "         0.0       1.00      0.96      0.98       167\n",
            "         1.0       0.96      0.93      0.95       167\n",
            "         2.0       0.93      1.00      0.96       162\n",
            "\n",
            "    accuracy                           0.96       496\n",
            "   macro avg       0.96      0.96      0.96       496\n",
            "weighted avg       0.96      0.96      0.96       496\n",
            "\n"
          ]
        }
      ]
    },
    {
      "cell_type": "code",
      "source": [
        "from sklearn.model_selection import GridSearchCV\n",
        "\n",
        "# Define parameter grid\n",
        "param_grid = {\n",
        "    'n_estimators': [100, 200],\n",
        "    'max_depth': [10, 20],\n",
        "}\n",
        "\n",
        "# Initialize and run GridSearchCV\n",
        "grid_search = GridSearchCV(estimator=clf, param_grid=param_grid, cv=5)\n",
        "grid_search.fit(X_train, y_train)\n",
        "\n",
        "# Show the best parameters\n",
        "print(f\"Best Hyperparameters: {grid_search.best_params_}\")\n"
      ],
      "metadata": {
        "colab": {
          "base_uri": "https://localhost:8080/"
        },
        "id": "iL5b3iE3yyD6",
        "outputId": "b193c44a-0da0-430f-f577-beea6330785b"
      },
      "execution_count": null,
      "outputs": [
        {
          "output_type": "stream",
          "name": "stdout",
          "text": [
            "Best Hyperparameters: {'max_depth': 20, 'n_estimators': 100}\n"
          ]
        }
      ]
    },
    {
      "cell_type": "code",
      "source": [
        "from sklearn.metrics import roc_curve, auc\n",
        "from sklearn.preprocessing import label_binarize\n",
        "from sklearn.metrics import roc_auc_score\n",
        "import matplotlib.pyplot as plt\n"
      ],
      "metadata": {
        "id": "dg0xCEksAntx"
      },
      "execution_count": null,
      "outputs": []
    },
    {
      "cell_type": "code",
      "source": [
        "# Assuming 'y' contains the true labels with classes [0, 1, 2]\n",
        "y_test_binarized = label_binarize(y_test, classes=[0.0, 1.0, 2.0])\n",
        "n_classes = y_test_binarized.shape[1]\n"
      ],
      "metadata": {
        "id": "SyD1IERFB0Qo"
      },
      "execution_count": null,
      "outputs": []
    },
    {
      "cell_type": "code",
      "source": [
        "y_score = clf.predict_proba(X_test)\n"
      ],
      "metadata": {
        "id": "4z_GRfngB25U"
      },
      "execution_count": null,
      "outputs": []
    },
    {
      "cell_type": "code",
      "source": [
        "fpr = dict()  # False Positive Rate\n",
        "tpr = dict()  # True Positive Rate\n",
        "roc_auc = dict()  # Area Under Curve (AUC)\n",
        "\n",
        "for i in range(n_classes):\n",
        "    fpr[i], tpr[i], _ = roc_curve(y_test_binarized[:, i], y_score[:, i])\n",
        "    roc_auc[i] = auc(fpr[i], tpr[i])\n"
      ],
      "metadata": {
        "id": "EFqukkqsB6Wt"
      },
      "execution_count": null,
      "outputs": []
    },
    {
      "cell_type": "code",
      "source": [
        "# Plot ROC curve for each class\n",
        "plt.figure()\n",
        "colors = ['blue', 'red', 'green']\n",
        "\n",
        "for i, color in enumerate(colors):\n",
        "    plt.plot(fpr[i], tpr[i], color=color, lw=2,\n",
        "             label=f'Class {i} (area = {roc_auc[i]:.2f})')\n",
        "\n",
        "plt.plot([0, 1], [0, 1], 'k--', lw=2)  # Diagonal line\n",
        "plt.xlim([0.0, 1.0])\n",
        "plt.ylim([0.0, 1.05])\n",
        "plt.xlabel('False Positive Rate')\n",
        "plt.ylabel('True Positive Rate')\n",
        "plt.title('ROC Curve for Multi-Class Classification')\n",
        "plt.legend(loc=\"lower right\")\n",
        "plt.show()\n"
      ],
      "metadata": {
        "colab": {
          "base_uri": "https://localhost:8080/",
          "height": 472
        },
        "id": "2KqyXTthB9JO",
        "outputId": "c53bed28-00a8-46a7-9b13-083714fa9882"
      },
      "execution_count": null,
      "outputs": [
        {
          "output_type": "display_data",
          "data": {
            "text/plain": [
              "<Figure size 640x480 with 1 Axes>"
            ],
            "image/png": "[encoded data removed]"
          },
          "metadata": {}
        }
      ]
    },
    {
      "cell_type": "code",
      "source": [
        "# Compute micro-average ROC curve and ROC area\n",
        "fpr[\"micro\"], tpr[\"micro\"], _ = roc_curve(y_test_binarized.ravel(), y_score.ravel())\n",
        "roc_auc[\"micro\"] = auc(fpr[\"micro\"], tpr[\"micro\"])\n",
        "\n",
        "# Plot micro-average ROC curve\n",
        "plt.figure()\n",
        "plt.plot(fpr[\"micro\"], tpr[\"micro\"],\n",
        "         label=f'micro-average ROC curve (area = {roc_auc[\"micro\"]:.2f})',\n",
        "         color='deeppink', linestyle=':', linewidth=4)\n",
        "\n",
        "plt.plot([0, 1], [0, 1], 'k--', lw=2)\n",
        "plt.xlim([0.0, 1.0])\n",
        "plt.ylim([0.0, 1.05])\n",
        "plt.xlabel('False Positive Rate')\n",
        "plt.ylabel('True Positive Rate')\n",
        "plt.title('Micro-Average ROC Curve')\n",
        "plt.legend(loc=\"lower right\")\n",
        "plt.show()\n"
      ],
      "metadata": {
        "colab": {
          "base_uri": "https://localhost:8080/",
          "height": 472
        },
        "id": "ODWICV7JCBM0",
        "outputId": "732cb628-7c1a-4031-944f-3d35157a10f4"
      },
      "execution_count": null,
      "outputs": [
        {
          "output_type": "display_data",
          "data": {
            "text/plain": [
              "<Figure size 640x480 with 1 Axes>"
            ],
            "image/png": "[encoded data removed]"
          },
          "metadata": {}
        }
      ]
    },
    {
      "cell_type": "code",
      "source": [
        "from sklearn.model_selection import train_test_split\n",
        "\n",
        "# Split into train, validation, and test sets\n",
        "X_train_full, X_test, y_train_full, y_test = train_test_split(X, y, test_size=0.2, random_state=42)\n",
        "\n",
        "# Further split the training set into training and validation sets\n",
        "X_train, X_val, y_train, y_val = train_test_split(X_train_full, y_train_full, test_size=0.2, random_state=42)\n"
      ],
      "metadata": {
        "id": "h1tVeObPCPcG"
      },
      "execution_count": null,
      "outputs": []
    },
    {
      "cell_type": "code",
      "source": [
        "# Train the Random Forest Classifier\n",
        "clf = RandomForestClassifier(random_state=42)\n",
        "clf.fit(X_train, y_train)\n",
        "\n",
        "# Validate on the validation set\n",
        "y_val_pred = clf.predict(X_val)\n",
        "val_accuracy = accuracy_score(y_val, y_val_pred)\n"
      ],
      "metadata": {
        "id": "IKM7PSPcC_pA"
      },
      "execution_count": null,
      "outputs": []
    },
    {
      "cell_type": "code",
      "source": [
        "from sklearn.metrics import classification_report, confusion_matrix\n",
        "\n",
        "# Classification report on validation set\n",
        "val_report = classification_report(y_val, y_val_pred)\n",
        "print(\"Validation Results:\\n\", val_report)\n",
        "\n",
        "# Confusion matrix for validation set\n",
        "val_cm = confusion_matrix(y_val, y_val_pred)\n",
        "print(\"Confusion Matrix (Validation):\\n\", val_cm)\n"
      ],
      "metadata": {
        "colab": {
          "base_uri": "https://localhost:8080/"
        },
        "id": "JRqYPQ3eDCNB",
        "outputId": "dc42b427-65e6-49c0-9cf8-7580d3cfa326"
      },
      "execution_count": null,
      "outputs": [
        {
          "output_type": "stream",
          "name": "stdout",
          "text": [
            "Validation Results:\n",
            "               precision    recall  f1-score   support\n",
            "\n",
            "         0.0       0.99      0.92      0.95       132\n",
            "         1.0       0.92      0.98      0.95       135\n",
            "         2.0       0.98      1.00      0.99       130\n",
            "\n",
            "    accuracy                           0.96       397\n",
            "   macro avg       0.97      0.96      0.96       397\n",
            "weighted avg       0.97      0.96      0.96       397\n",
            "\n",
            "Confusion Matrix (Validation):\n",
            " [[121  11   0]\n",
            " [  1 132   2]\n",
            " [  0   0 130]]\n"
          ]
        }
      ]
    },
    {
      "cell_type": "code",
      "source": [
        "import seaborn as sns\n",
        "import matplotlib.pyplot as plt\n",
        "\n",
        "plt.figure(figsize=(6,4))\n",
        "sns.heatmap(val_cm, annot=True, fmt=\"d\", cmap=\"Blues\")\n",
        "plt.title('Confusion Matrix - Validation Set')\n",
        "plt.xlabel('Predicted')\n",
        "plt.ylabel('True')\n",
        "plt.show()\n"
      ],
      "metadata": {
        "colab": {
          "base_uri": "https://localhost:8080/",
          "height": 410
        },
        "id": "Rjcf1s2qDGfH",
        "outputId": "eb1bc964-f5f0-4405-9e5d-19ca2ab396d0"
      },
      "execution_count": null,
      "outputs": [
        {
          "output_type": "display_data",
          "data": {
            "text/plain": [
              "<Figure size 600x400 with 2 Axes>"
            ],
            "image/png": "[encoded data removed]"
          },
          "metadata": {}
        }
      ]
    },
    {
      "cell_type": "code",
      "source": [
        "# Predict on the test set\n",
        "y_test_pred = clf.predict(X_test)\n",
        "\n",
        "# Test accuracy\n",
        "test_accuracy = accuracy_score(y_test, y_test_pred)\n",
        "print(f'Test Accuracy: {test_accuracy*100:.2f}%')\n"
      ],
      "metadata": {
        "colab": {
          "base_uri": "https://localhost:8080/"
        },
        "id": "jmOMeaLUDP_2",
        "outputId": "a3711bb2-b139-4cfc-976e-b64f86bcc192"
      },
      "execution_count": null,
      "outputs": [
        {
          "output_type": "stream",
          "name": "stdout",
          "text": [
            "Test Accuracy: 95.97%\n"
          ]
        }
      ]
    },
    {
      "cell_type": "code",
      "source": [
        "# Classification report on test set\n",
        "test_report = classification_report(y_test, y_test_pred)\n",
        "print(\"Test Results:\\n\", test_report)\n",
        "\n",
        "# Confusion matrix for test set\n",
        "test_cm = confusion_matrix(y_test, y_test_pred)\n",
        "print(\"Confusion Matrix (Test):\\n\", test_cm)\n",
        "\n",
        "# Plot confusion matrix for test set\n",
        "plt.figure(figsize=(6,4))\n",
        "sns.heatmap(test_cm, annot=True, fmt=\"d\", cmap=\"Blues\")\n",
        "plt.title('Confusion Matrix - Test Set')\n",
        "plt.xlabel('Predicted')\n",
        "plt.ylabel('True')\n",
        "plt.show()\n"
      ],
      "metadata": {
        "colab": {
          "base_uri": "https://localhost:8080/",
          "height": 670
        },
        "id": "aEBvO_-_DXAW",
        "outputId": "50511add-5463-45cf-c956-f760d483ee33"
      },
      "execution_count": null,
      "outputs": [
        {
          "output_type": "stream",
          "name": "stdout",
          "text": [
            "Test Results:\n",
            "               precision    recall  f1-score   support\n",
            "\n",
            "         0.0       1.00      0.96      0.98       167\n",
            "         1.0       0.96      0.92      0.94       167\n",
            "         2.0       0.92      1.00      0.96       162\n",
            "\n",
            "    accuracy                           0.96       496\n",
            "   macro avg       0.96      0.96      0.96       496\n",
            "weighted avg       0.96      0.96      0.96       496\n",
            "\n",
            "Confusion Matrix (Test):\n",
            " [[160   6   1]\n",
            " [  0 154  13]\n",
            " [  0   0 162]]\n"
          ]
        },
        {
          "output_type": "display_data",
          "data": {
            "text/plain": [
              "<Figure size 600x400 with 2 Axes>"
            ],
            "image/png": "[encoded data removed]"
          },
          "metadata": {}
        }
      ]
    },
    {
      "cell_type": "code",
      "source": [
        "from sklearn.ensemble import RandomForestClassifier\n",
        "from sklearn.metrics import classification_report, confusion_matrix, accuracy_score\n",
        "\n",
        "# Train the Random Forest Classifier on training set\n",
        "clf = RandomForestClassifier(random_state=42)\n",
        "clf.fit(X_train, y_train)\n",
        "\n",
        "# Validate on the validation set\n",
        "y_val_pred = clf.predict(X_val)\n",
        "\n",
        "# Calculate validation accuracy\n",
        "val_accuracy = accuracy_score(y_val, y_val_pred)\n",
        "print(f'Validation Accuracy: {val_accuracy * 100:.2f}%')\n",
        "\n",
        "# Classification report on validation set\n",
        "val_report = classification_report(y_val, y_val_pred)\n",
        "print(\"Validation Results:\\n\", val_report)\n",
        "\n",
        "# Confusion matrix for validation set\n",
        "val_cm = confusion_matrix(y_val, y_val_pred)\n",
        "print(\"Confusion Matrix (Validation):\\n\", val_cm)\n",
        "\n",
        "# Test the model on the test set\n",
        "y_test_pred = clf.predict(X_test)\n",
        "\n",
        "# Calculate test accuracy\n",
        "test_accuracy = accuracy_score(y_test, y_test_pred)\n",
        "print(f'Test Accuracy: {test_accuracy * 100:.2f}%')\n",
        "\n",
        "# Classification report on test set\n",
        "test_report = classification_report(y_test, y_test_pred)\n",
        "print(\"Test Results:\\n\", test_report)\n",
        "\n",
        "# Confusion matrix for test set\n",
        "test_cm = confusion_matrix(y_test, y_test_pred)\n",
        "print(\"Confusion Matrix (Test):\\n\", test_cm)\n"
      ],
      "metadata": {
        "colab": {
          "base_uri": "https://localhost:8080/"
        },
        "id": "WIge7wiRDbFA",
        "outputId": "b9627cd3-f693-4811-ce8c-1522d4a926e2"
      },
      "execution_count": null,
      "outputs": [
        {
          "output_type": "stream",
          "name": "stdout",
          "text": [
            "Validation Accuracy: 96.47%\n",
            "Validation Results:\n",
            "               precision    recall  f1-score   support\n",
            "\n",
            "         0.0       0.99      0.92      0.95       132\n",
            "         1.0       0.92      0.98      0.95       135\n",
            "         2.0       0.98      1.00      0.99       130\n",
            "\n",
            "    accuracy                           0.96       397\n",
            "   macro avg       0.97      0.96      0.96       397\n",
            "weighted avg       0.97      0.96      0.96       397\n",
            "\n",
            "Confusion Matrix (Validation):\n",
            " [[121  11   0]\n",
            " [  1 132   2]\n",
            " [  0   0 130]]\n",
            "Test Accuracy: 95.97%\n",
            "Test Results:\n",
            "               precision    recall  f1-score   support\n",
            "\n",
            "         0.0       1.00      0.96      0.98       167\n",
            "         1.0       0.96      0.92      0.94       167\n",
            "         2.0       0.92      1.00      0.96       162\n",
            "\n",
            "    accuracy                           0.96       496\n",
            "   macro avg       0.96      0.96      0.96       496\n",
            "weighted avg       0.96      0.96      0.96       496\n",
            "\n",
            "Confusion Matrix (Test):\n",
            " [[160   6   1]\n",
            " [  0 154  13]\n",
            " [  0   0 162]]\n"
          ]
        }
      ]
    },
    {
      "cell_type": "code",
      "source": [],
      "metadata": {
        "id": "whhzW0j1JR-v"
      },
      "execution_count": null,
      "outputs": []
    }
  ]
}