{
  "nbformat": 4,
  "nbformat_minor": 0,
  "metadata": {
    "colab": {
      "provenance": [],
      "authorship_tag": "ABX9TyM6gXr+v6vPWuocnJylSHJf",
      "include_colab_link": true
    },
    "kernelspec": {
      "name": "python3",
      "display_name": "Python 3"
    },
    "language_info": {
      "name": "python"
    }
  },
  "cells": [
    {
      "cell_type": "markdown",
      "metadata": {
        "id": "view-in-github",
        "colab_type": "text"
      },
      "source": [
        "<a href=\"https://colab.research.google.com/github/Irenempax/Irenempax/blob/main/wesad_data.ipynb\" target=\"_parent\"><img src=\"https://colab.research.google.com/assets/colab-badge.svg\" alt=\"Open In Colab\"/></a>"
      ]
    },
    {
      "cell_type": "code",
      "source": [
        "from google.colab import drive\n",
        "drive.mount('/content/drive')\n"
      ],
      "metadata": {
        "colab": {
          "base_uri": "https://localhost:8080/"
        },
        "id": "2YkcBDRP8gHW",
        "outputId": "8bc84af1-f2b8-4e5f-cb94-ae844e6d1696"
      },
      "execution_count": null,
      "outputs": [
        {
          "output_type": "stream",
          "name": "stdout",
          "text": [
            "Mounted at /content/drive\n"
          ]
        }
      ]
    },
    {
      "cell_type": "code",
      "source": [
        "from zipfile import ZipFile\n",
        "import os\n",
        "\n",
        "# Path to your WESAD zipped file in Google Drive\n",
        "zip_file_path = '/content/drive/MyDrive/wesad/WESAD.zip'\n",
        "\n",
        "# Unzip the file into a folder in Colab environment\n",
        "with ZipFile(zip_file_path, 'r') as zip_ref:\n",
        "    zip_ref.extractall('/content/wesad/')\n",
        "\n",
        "# Check that files are extracted\n",
        "os.listdir('/content/wesad/WESAD')\n"
      ],
      "metadata": {
        "colab": {
          "base_uri": "https://localhost:8080/"
        },
        "id": "9He9mEqz9PpI",
        "outputId": "96eee5d6-bb54-40ce-8d1d-ec988dea6899"
      },
      "execution_count": null,
      "outputs": [
        {
          "output_type": "execute_result",
          "data": {
            "text/plain": [
              "['S14',\n",
              " 'wesad_readme.pdf',\n",
              " 'S3',\n",
              " 'S6',\n",
              " 'S17',\n",
              " 'S10',\n",
              " 'S16',\n",
              " 'S5',\n",
              " 'S4',\n",
              " 'S2',\n",
              " 'S13',\n",
              " 'S8',\n",
              " 'S7',\n",
              " 'S9',\n",
              " 'S11',\n",
              " 'S15']"
            ]
          },
          "metadata": {},
          "execution_count": 4
        }
      ]
    },
    {
      "cell_type": "code",
      "source": [
        "# Path to subject S2 folder\n",
        "subject_folder = '/content/wesad/WESAD/S2'\n",
        "\n",
        "# List contents of S2 folder\n",
        "os.listdir(subject_folder)\n"
      ],
      "metadata": {
        "colab": {
          "base_uri": "https://localhost:8080/"
        },
        "id": "ZtIdmplb9dkY",
        "outputId": "63afe0b4-5cb9-4a40-e084-ee1805741efb"
      },
      "execution_count": null,
      "outputs": [
        {
          "output_type": "execute_result",
          "data": {
            "text/plain": [
              "['S2_readme.txt',\n",
              " 'S2_respiban.txt',\n",
              " 'S2_quest.csv',\n",
              " 'S2_E4_Data.zip',\n",
              " 'S2.pkl']"
            ]
          },
          "metadata": {},
          "execution_count": 5
        }
      ]
    },
    {
      "cell_type": "code",
      "source": [
        "# Unzip the S2_E4_Data.zip file\n",
        "with ZipFile(subject_folder + '/S2_E4_Data.zip', 'r') as zip_ref:\n",
        "    zip_ref.extractall(subject_folder + '/S2_E4_Data')\n",
        "\n",
        "# List the contents of S2_E4_Data\n",
        "os.listdir(subject_folder + '/S2_E4_Data')\n"
      ],
      "metadata": {
        "colab": {
          "base_uri": "https://localhost:8080/"
        },
        "id": "AWu2z6WM_ew0",
        "outputId": "afa7409f-6e4f-4a51-89b6-d579be2c07e7"
      },
      "execution_count": null,
      "outputs": [
        {
          "output_type": "execute_result",
          "data": {
            "text/plain": [
              "['info.txt',\n",
              " 'HR.csv',\n",
              " 'TEMP.csv',\n",
              " 'IBI.csv',\n",
              " 'BVP.csv',\n",
              " 'EDA.csv',\n",
              " 'ACC.csv',\n",
              " 'tags.csv']"
            ]
          },
          "metadata": {},
          "execution_count": 6
        }
      ]
    },
    {
      "cell_type": "code",
      "source": [
        "import pandas as pd\n",
        "\n",
        "# Load the EDA, ACC, and BVP files\n",
        "eda_file = pd.read_csv(subject_folder + '/S2_E4_Data/EDA.csv', header=None)\n",
        "acc_file = pd.read_csv(subject_folder + '/S2_E4_Data/ACC.csv', header=None)\n",
        "bvp_file = pd.read_csv(subject_folder + '/S2_E4_Data/BVP.csv', header=None)\n",
        "\n",
        "# Display the first few rows of each file\n",
        "print(\"EDA file:\\n\", eda_file.head())\n",
        "print(\"ACC file:\\n\", acc_file.head())\n",
        "print(\"BVP file:\\n\", bvp_file.head())\n"
      ],
      "metadata": {
        "colab": {
          "base_uri": "https://localhost:8080/"
        },
        "id": "IbZr7Ovf_kDC",
        "outputId": "57f7aa5b-4793-4d7f-95b9-a90b44f9fccf"
      },
      "execution_count": null,
      "outputs": [
        {
          "output_type": "stream",
          "name": "stdout",
          "text": [
            "EDA file:\n",
            "               0\n",
            "0  1.495437e+09\n",
            "1  4.000000e+00\n",
            "2  0.000000e+00\n",
            "3  3.280210e-01\n",
            "4  4.100260e-01\n",
            "ACC file:\n",
            "               0             1             2\n",
            "0  1.495437e+09  1.495437e+09  1.495437e+09\n",
            "1  3.200000e+01  3.200000e+01  3.200000e+01\n",
            "2  2.900000e+01 -6.000000e+00  5.500000e+01\n",
            "3  2.800000e+01 -6.000000e+00  5.500000e+01\n",
            "4  2.800000e+01 -6.000000e+00  5.500000e+01\n",
            "BVP file:\n",
            "               0\n",
            "0  1.495437e+09\n",
            "1  6.400000e+01\n",
            "2 -0.000000e+00\n",
            "3 -0.000000e+00\n",
            "4 -0.000000e+00\n"
          ]
        }
      ]
    },
    {
      "cell_type": "code",
      "source": [
        "# Checking for missing values in each file\n",
        "print(\"Missing values in EDA:\\n\", eda_file.isnull().sum())\n",
        "print(\"Missing values in ACC:\\n\", acc_file.isnull().sum())\n",
        "print(\"Missing values in BVP:\\n\", bvp_file.isnull().sum())\n"
      ],
      "metadata": {
        "colab": {
          "base_uri": "https://localhost:8080/"
        },
        "id": "cN1fwok8_o-a",
        "outputId": "78421815-01a5-42ab-bfd6-660792dba055"
      },
      "execution_count": null,
      "outputs": [
        {
          "output_type": "stream",
          "name": "stdout",
          "text": [
            "Missing values in EDA:\n",
            " 0    0\n",
            "dtype: int64\n",
            "Missing values in ACC:\n",
            " 0    0\n",
            "1    0\n",
            "2    0\n",
            "dtype: int64\n",
            "Missing values in BVP:\n",
            " 0    0\n",
            "dtype: int64\n"
          ]
        }
      ]
    },
    {
      "cell_type": "code",
      "source": [
        "# Fill missing values in EDA file using forward fill\n",
        "eda_file.fillna(method='ffill', inplace=True)\n",
        "\n",
        "# Similarly, fill missing values in other files if needed\n"
      ],
      "metadata": {
        "colab": {
          "base_uri": "https://localhost:8080/"
        },
        "id": "RYhNjAiw_viO",
        "outputId": "fcb9ecb9-5397-4a26-f4eb-a19d143964f9"
      },
      "execution_count": null,
      "outputs": [
        {
          "output_type": "stream",
          "name": "stderr",
          "text": [
            "<ipython-input-9-d8cf68e26ce2>:2: FutureWarning: DataFrame.fillna with 'method' is deprecated and will raise in a future version. Use obj.ffill() or obj.bfill() instead.\n",
            "  eda_file.fillna(method='ffill', inplace=True)\n"
          ]
        }
      ]
    },
    {
      "cell_type": "code",
      "source": [
        "# EDA Features\n",
        "eda_features = {\n",
        "    'eda_mean': eda_file.mean()[0],\n",
        "    'eda_std': eda_file.std()[0],\n",
        "    'eda_max': eda_file.max()[0],\n",
        "    'eda_min': eda_file.min()[0]\n",
        "}\n",
        "\n",
        "print(\"EDA Features:\\n\", eda_features)\n"
      ],
      "metadata": {
        "colab": {
          "base_uri": "https://localhost:8080/"
        },
        "id": "qDVSOSpt_0Bp",
        "outputId": "813c3f95-e7df-44bc-be84-f79cda2b588e"
      },
      "execution_count": null,
      "outputs": [
        {
          "output_type": "stream",
          "name": "stdout",
          "text": [
            "EDA Features:\n",
            " {'eda_mean': 47480.77794381153, 'eda_std': 8426369.807528917, 'eda_max': 1495437325.0, 'eda_min': 0.0}\n"
          ]
        }
      ]
    },
    {
      "cell_type": "code",
      "source": [
        "import numpy as np\n",
        "\n",
        "# FFT on BVP signal\n",
        "bvp_fft = np.fft.fft(bvp_file[0])\n",
        "print(\"FFT of BVP signal:\\n\", bvp_fft[:5])  # Print first 5 FFT values\n"
      ],
      "metadata": {
        "colab": {
          "base_uri": "https://localhost:8080/"
        },
        "id": "idvyRbIZ_5JP",
        "outputId": "c174f34e-c768-4b20-d5c2-bdc82bae66a6"
      },
      "execution_count": null,
      "outputs": [
        {
          "output_type": "stream",
          "name": "stdout",
          "text": [
            "FFT of BVP signal:\n",
            " [1.49543920e+09-4.91738319e-07j 1.49543922e+09+3.81469401e+00j\n",
            " 1.49543921e+09+2.18976952e+01j 1.49543917e+09-9.62840668e+00j\n",
            " 1.49543911e+09+1.04519161e+02j]\n"
          ]
        }
      ]
    },
    {
      "cell_type": "code",
      "source": [
        "# Get the lengths of each file\n",
        "eda_length = len(eda_file)\n",
        "acc_length = len(acc_file)\n",
        "bvp_length = len(bvp_file)\n",
        "\n",
        "# Find the minimum length\n",
        "min_length = min(eda_length, acc_length, bvp_length)\n",
        "print(\"Minimum length:\", min_length)\n"
      ],
      "metadata": {
        "colab": {
          "base_uri": "https://localhost:8080/"
        },
        "id": "3-muJnGrARzX",
        "outputId": "ea6cd791-1199-4412-aa03-18fb67022cc2"
      },
      "execution_count": null,
      "outputs": [
        {
          "output_type": "stream",
          "name": "stdout",
          "text": [
            "Minimum length: 31496\n"
          ]
        }
      ]
    },
    {
      "cell_type": "code",
      "source": [
        "!ls \"/content/drive/My Drive/wesad\"\n"
      ],
      "metadata": {
        "colab": {
          "base_uri": "https://localhost:8080/"
        },
        "id": "OttH9myKERby",
        "outputId": "8f2a568e-8e9b-453d-bae5-1ea46930dd63"
      },
      "execution_count": null,
      "outputs": [
        {
          "output_type": "stream",
          "name": "stdout",
          "text": [
            "WESAD.zip\n"
          ]
        }
      ]
    },
    {
      "cell_type": "code",
      "source": [
        "!unzip \"/content/drive/My Drive/wesad/WESAD.zip\" -d \"/content/drive/My Drive/wesad/\"\n"
      ],
      "metadata": {
        "colab": {
          "base_uri": "https://localhost:8080/"
        },
        "id": "cId23RM4EllF",
        "outputId": "c5e9135f-2551-499a-9b41-77d9467a594d"
      },
      "execution_count": null,
      "outputs": [
        {
          "output_type": "stream",
          "name": "stdout",
          "text": [
            "Archive:  /content/drive/My Drive/wesad/WESAD.zip\n",
            "   creating: /content/drive/My Drive/wesad/WESAD/\n",
            "   creating: /content/drive/My Drive/wesad/WESAD/S10/\n",
            "  inflating: /content/drive/My Drive/wesad/WESAD/S10/S10.pkl  \n",
            "  inflating: /content/drive/My Drive/wesad/WESAD/S10/S10_E4_Data.zip  \n",
            "  inflating: /content/drive/My Drive/wesad/WESAD/S10/S10_quest.csv  \n",
            "  inflating: /content/drive/My Drive/wesad/WESAD/S10/S10_readme.txt  \n",
            "  inflating: /content/drive/My Drive/wesad/WESAD/S10/S10_respiban.txt  \n",
            "   creating: /content/drive/My Drive/wesad/WESAD/S11/\n",
            "  inflating: /content/drive/My Drive/wesad/WESAD/S11/S11.pkl  \n",
            "  inflating: /content/drive/My Drive/wesad/WESAD/S11/S11_E4_Data.zip  \n",
            "  inflating: /content/drive/My Drive/wesad/WESAD/S11/S11_quest.csv  \n",
            "  inflating: /content/drive/My Drive/wesad/WESAD/S11/S11_readme.txt  \n",
            "  inflating: /content/drive/My Drive/wesad/WESAD/S11/S11_respiban.txt  \n",
            "   creating: /content/drive/My Drive/wesad/WESAD/S13/\n",
            "  inflating: /content/drive/My Drive/wesad/WESAD/S13/S13.pkl  \n",
            "  inflating: /content/drive/My Drive/wesad/WESAD/S13/S13_E4_Data.zip  \n",
            "  inflating: /content/drive/My Drive/wesad/WESAD/S13/S13_quest.csv  \n",
            "  inflating: /content/drive/My Drive/wesad/WESAD/S13/S13_readme.txt  \n",
            "  inflating: /content/drive/My Drive/wesad/WESAD/S13/S13_respiban.txt  \n",
            "   creating: /content/drive/My Drive/wesad/WESAD/S14/\n",
            "  inflating: /content/drive/My Drive/wesad/WESAD/S14/S14.pkl  \n",
            "  inflating: /content/drive/My Drive/wesad/WESAD/S14/S14_E4_Data.zip  \n",
            "  inflating: /content/drive/My Drive/wesad/WESAD/S14/S14_quest.csv  \n",
            "  inflating: /content/drive/My Drive/wesad/WESAD/S14/S14_readme.txt  \n",
            "  inflating: /content/drive/My Drive/wesad/WESAD/S14/S14_respiban.txt  \n",
            "   creating: /content/drive/My Drive/wesad/WESAD/S15/\n",
            "  inflating: /content/drive/My Drive/wesad/WESAD/S15/S15.pkl  \n",
            "  inflating: /content/drive/My Drive/wesad/WESAD/S15/S15_E4_Data.zip  \n",
            "  inflating: /content/drive/My Drive/wesad/WESAD/S15/S15_quest.csv  \n",
            "  inflating: /content/drive/My Drive/wesad/WESAD/S15/S15_readme.txt  \n",
            "  inflating: /content/drive/My Drive/wesad/WESAD/S15/S15_respiban.txt  \n",
            "   creating: /content/drive/My Drive/wesad/WESAD/S16/\n",
            "  inflating: /content/drive/My Drive/wesad/WESAD/S16/S16.pkl  \n",
            "  inflating: /content/drive/My Drive/wesad/WESAD/S16/S16_E4_Data.zip  \n",
            "  inflating: /content/drive/My Drive/wesad/WESAD/S16/S16_quest.csv  \n",
            "  inflating: /content/drive/My Drive/wesad/WESAD/S16/S16_readme.txt  \n",
            "  inflating: /content/drive/My Drive/wesad/WESAD/S16/S16_respiban.txt  \n",
            "   creating: /content/drive/My Drive/wesad/WESAD/S17/\n",
            "  inflating: /content/drive/My Drive/wesad/WESAD/S17/S17.pkl  \n",
            "  inflating: /content/drive/My Drive/wesad/WESAD/S17/S17_E4_Data.zip  \n",
            "  inflating: /content/drive/My Drive/wesad/WESAD/S17/S17_quest.csv  \n",
            "  inflating: /content/drive/My Drive/wesad/WESAD/S17/S17_readme.txt  \n",
            "  inflating: /content/drive/My Drive/wesad/WESAD/S17/S17_respiban.txt  \n",
            "   creating: /content/drive/My Drive/wesad/WESAD/S2/\n",
            "  inflating: /content/drive/My Drive/wesad/WESAD/S2/S2.pkl  \n",
            "  inflating: /content/drive/My Drive/wesad/WESAD/S2/S2_E4_Data.zip  \n",
            "  inflating: /content/drive/My Drive/wesad/WESAD/S2/S2_quest.csv  \n",
            "  inflating: /content/drive/My Drive/wesad/WESAD/S2/S2_readme.txt  \n",
            "  inflating: /content/drive/My Drive/wesad/WESAD/S2/S2_respiban.txt  \n",
            "   creating: /content/drive/My Drive/wesad/WESAD/S3/\n",
            "  inflating: /content/drive/My Drive/wesad/WESAD/S3/S3.pkl  \n",
            "  inflating: /content/drive/My Drive/wesad/WESAD/S3/S3_E4_Data.zip  \n",
            "  inflating: /content/drive/My Drive/wesad/WESAD/S3/S3_quest.csv  \n",
            "  inflating: /content/drive/My Drive/wesad/WESAD/S3/S3_readme.txt  \n",
            "  inflating: /content/drive/My Drive/wesad/WESAD/S3/S3_respiban.txt  \n",
            "   creating: /content/drive/My Drive/wesad/WESAD/S4/\n",
            "  inflating: /content/drive/My Drive/wesad/WESAD/S4/S4.pkl  \n",
            "  inflating: /content/drive/My Drive/wesad/WESAD/S4/S4_E4_Data.zip  \n",
            "  inflating: /content/drive/My Drive/wesad/WESAD/S4/S4_quest.csv  \n",
            "  inflating: /content/drive/My Drive/wesad/WESAD/S4/S4_readme.txt  \n",
            "  inflating: /content/drive/My Drive/wesad/WESAD/S4/S4_respiban.txt  \n",
            "   creating: /content/drive/My Drive/wesad/WESAD/S5/\n",
            "  inflating: /content/drive/My Drive/wesad/WESAD/S5/S5.pkl  \n",
            "  inflating: /content/drive/My Drive/wesad/WESAD/S5/S5_E4_Data.zip  \n",
            "  inflating: /content/drive/My Drive/wesad/WESAD/S5/S5_quest.csv  \n",
            "  inflating: /content/drive/My Drive/wesad/WESAD/S5/S5_readme.txt  \n",
            "  inflating: /content/drive/My Drive/wesad/WESAD/S5/S5_respiban.txt  \n",
            "   creating: /content/drive/My Drive/wesad/WESAD/S6/\n",
            "  inflating: /content/drive/My Drive/wesad/WESAD/S6/S6.pkl  \n",
            "  inflating: /content/drive/My Drive/wesad/WESAD/S6/S6_E4_Data.zip  \n",
            "  inflating: /content/drive/My Drive/wesad/WESAD/S6/S6_quest.csv  \n",
            "  inflating: /content/drive/My Drive/wesad/WESAD/S6/S6_readme.txt  \n",
            "  inflating: /content/drive/My Drive/wesad/WESAD/S6/S6_respiban.txt  \n",
            "   creating: /content/drive/My Drive/wesad/WESAD/S7/\n",
            "  inflating: /content/drive/My Drive/wesad/WESAD/S7/S7.pkl  \n",
            "  inflating: /content/drive/My Drive/wesad/WESAD/S7/S7_E4_Data.zip  \n",
            "  inflating: /content/drive/My Drive/wesad/WESAD/S7/S7_quest.csv  \n",
            "  inflating: /content/drive/My Drive/wesad/WESAD/S7/S7_readme.txt  \n",
            "  inflating: /content/drive/My Drive/wesad/WESAD/S7/S7_respiban.txt  \n",
            "   creating: /content/drive/My Drive/wesad/WESAD/S8/\n",
            "  inflating: /content/drive/My Drive/wesad/WESAD/S8/S8.pkl  \n",
            "  inflating: /content/drive/My Drive/wesad/WESAD/S8/S8_E4_Data.zip  \n",
            "  inflating: /content/drive/My Drive/wesad/WESAD/S8/S8_quest.csv  \n",
            "  inflating: /content/drive/My Drive/wesad/WESAD/S8/S8_readme.txt  \n",
            "  inflating: /content/drive/My Drive/wesad/WESAD/S8/S8_respiban.txt  \n",
            "   creating: /content/drive/My Drive/wesad/WESAD/S9/\n",
            "  inflating: /content/drive/My Drive/wesad/WESAD/S9/S9.pkl  \n",
            "  inflating: /content/drive/My Drive/wesad/WESAD/S9/S9_E4_Data.zip  \n",
            "  inflating: /content/drive/My Drive/wesad/WESAD/S9/S9_quest.csv  \n",
            "  inflating: /content/drive/My Drive/wesad/WESAD/S9/S9_readme.txt  \n",
            "  inflating: /content/drive/My Drive/wesad/WESAD/S9/S9_respiban.txt  \n",
            "  inflating: /content/drive/My Drive/wesad/WESAD/wesad_readme.pdf  \n"
          ]
        }
      ]
    },
    {
      "cell_type": "code",
      "source": [
        "!ls \"/content/drive/My Drive/wesad/\"\n"
      ],
      "metadata": {
        "colab": {
          "base_uri": "https://localhost:8080/"
        },
        "id": "XKChuWnqE1cL",
        "outputId": "3e025da3-9f81-44e7-fa45-8fb8c2cc233a"
      },
      "execution_count": null,
      "outputs": [
        {
          "output_type": "stream",
          "name": "stdout",
          "text": [
            "WESAD  WESAD.zip\n"
          ]
        }
      ]
    },
    {
      "cell_type": "code",
      "source": [
        "!ls \"/content/drive/My Drive/wesad/WESAD\"\n"
      ],
      "metadata": {
        "colab": {
          "base_uri": "https://localhost:8080/"
        },
        "id": "KBOqX16CHYcK",
        "outputId": "a0a03afb-0b54-4932-8d7a-53c09a9367ee"
      },
      "execution_count": null,
      "outputs": [
        {
          "output_type": "stream",
          "name": "stdout",
          "text": [
            "S10  S11  S13  S14  S15  S16  S17  S2  S3  S4  S5  S6  S7  S8  S9  wesad_readme.pdf\n"
          ]
        }
      ]
    },
    {
      "cell_type": "code",
      "source": [
        "import pickle\n",
        "\n",
        "with open('S2.pkl', 'rb') as file:\n",
        "    data = pickle.load(file, encoding='latin1')\n",
        "\n",
        "# Check the keys in the loaded data\n",
        "print(data.keys())\n"
      ],
      "metadata": {
        "colab": {
          "base_uri": "https://localhost:8080/"
        },
        "id": "mOGLkRENHmjT",
        "outputId": "a33049af-b4ed-4f89-dd0e-c3b368f3ac30"
      },
      "execution_count": null,
      "outputs": [
        {
          "output_type": "stream",
          "name": "stdout",
          "text": [
            "dict_keys(['signal', 'label', 'subject'])\n"
          ]
        }
      ]
    },
    {
      "cell_type": "code",
      "source": [
        "# Check the structure of the data\n",
        "print(type(data))  # Check the type of the data\n",
        "print(data.keys())  # Check the keys in the dictionary\n"
      ],
      "metadata": {
        "colab": {
          "base_uri": "https://localhost:8080/"
        },
        "id": "XMHl8xc5HxDA",
        "outputId": "cca5f660-46f2-4024-ddb0-e034709b35e9"
      },
      "execution_count": null,
      "outputs": [
        {
          "output_type": "stream",
          "name": "stdout",
          "text": [
            "<class 'dict'>\n",
            "dict_keys(['signal', 'label', 'subject'])\n"
          ]
        }
      ]
    },
    {
      "cell_type": "code",
      "source": [
        "# Inspect the keys and types of the loaded data\n",
        "print(type(data))  # Check the type of the data\n",
        "print(data.keys())  # Check the keys in the dictionary\n",
        "\n",
        "# Check the contents of the 'signal' key\n",
        "print(data['signal'])  # Explore the 'signal' key\n"
      ],
      "metadata": {
        "colab": {
          "base_uri": "https://localhost:8080/"
        },
        "id": "pXiZRZs7IClt",
        "outputId": "36ec8e92-efcd-4c9a-e988-eee8dcc8ed12"
      },
      "execution_count": null,
      "outputs": [
        {
          "output_type": "stream",
          "name": "stdout",
          "text": [
            "<class 'dict'>\n",
            "dict_keys(['signal', 'label', 'subject'])\n",
            "{'chest': {'ACC': array([[ 0.95539999, -0.222     , -0.55799997],\n",
            "       [ 0.92579997, -0.2216    , -0.55379999],\n",
            "       [ 0.90820003, -0.21960002, -0.53920001],\n",
            "       ...,\n",
            "       [ 0.87179995, -0.12379998, -0.30419999],\n",
            "       [ 0.87300003, -0.12339997, -0.30260003],\n",
            "       [ 0.87020004, -0.12199998, -0.30220002]]), 'ECG': array([[ 0.02142334],\n",
            "       [ 0.02032471],\n",
            "       [ 0.01652527],\n",
            "       ...,\n",
            "       [-0.00544739],\n",
            "       [ 0.00013733],\n",
            "       [ 0.0040741 ]]), 'EMG': array([[-0.00444031],\n",
            "       [ 0.00434875],\n",
            "       [ 0.00517273],\n",
            "       ...,\n",
            "       [-0.01716614],\n",
            "       [-0.02897644],\n",
            "       [-0.02357483]]), 'EDA': array([[5.25054932],\n",
            "       [5.26733398],\n",
            "       [5.24330139],\n",
            "       ...,\n",
            "       [0.36048889],\n",
            "       [0.36582947],\n",
            "       [0.365448  ]]), 'Temp': array([[30.120758],\n",
            "       [30.129517],\n",
            "       [30.138214],\n",
            "       ...,\n",
            "       [31.459229],\n",
            "       [31.484283],\n",
            "       [31.456268]], dtype=float32), 'Resp': array([[-1.14898682],\n",
            "       [-1.12457275],\n",
            "       [-1.15203857],\n",
            "       ...,\n",
            "       [-1.10321045],\n",
            "       [-1.08642578],\n",
            "       [-1.09710693]])}, 'wrist': {'ACC': array([[ 62., -21., 107.],\n",
            "       [ 66.,  13.,  53.],\n",
            "       [ 41.,   9.,  15.],\n",
            "       ...,\n",
            "       [ 41.,  25.,  11.],\n",
            "       [ 39.,  27.,  22.],\n",
            "       [ 56.,  26.,  10.]]), 'BVP': array([[-59.37],\n",
            "       [-53.42],\n",
            "       [-44.4 ],\n",
            "       ...,\n",
            "       [ 18.26],\n",
            "       [ 18.68],\n",
            "       [ 19.71]]), 'EDA': array([[1.138257],\n",
            "       [1.125444],\n",
            "       [1.011405],\n",
            "       ...,\n",
            "       [0.059208],\n",
            "       [0.073303],\n",
            "       [0.045113]]), 'TEMP': array([[35.41],\n",
            "       [35.41],\n",
            "       [35.41],\n",
            "       ...,\n",
            "       [34.23],\n",
            "       [34.23],\n",
            "       [34.23]])}}\n"
          ]
        }
      ]
    },
    {
      "cell_type": "code",
      "source": [
        "# Access the signal data for chest and wrist\n",
        "chest_data = data['signal']['chest']\n",
        "wrist_data = data['signal']['wrist']\n",
        "labels = data['label']  # This should be a 1D array of labels\n",
        "\n",
        "# Check the type of the extracted data\n",
        "print(type(chest_data))  # Check the type of chest_data\n",
        "print(type(wrist_data))  # Check the type of wrist_data\n"
      ],
      "metadata": {
        "colab": {
          "base_uri": "https://localhost:8080/"
        },
        "id": "EemIF9R1ILsH",
        "outputId": "aa48684f-5a24-402c-b520-a0f9d93d533f"
      },
      "execution_count": null,
      "outputs": [
        {
          "output_type": "stream",
          "name": "stdout",
          "text": [
            "<class 'dict'>\n",
            "<class 'dict'>\n"
          ]
        }
      ]
    },
    {
      "cell_type": "code",
      "source": [
        "# Check the shapes of the signal data\n",
        "print(\"Chest Data Type:\", type(chest_data))\n",
        "print(\"Chest Data Shape:\", chest_data.shape if hasattr(chest_data, 'shape') else 'No shape attribute')\n",
        "print(\"Wrist Data Type:\", type(wrist_data))\n",
        "print(\"Wrist Data Shape:\", wrist_data.shape if hasattr(wrist_data, 'shape') else 'No shape attribute')\n"
      ],
      "metadata": {
        "colab": {
          "base_uri": "https://localhost:8080/"
        },
        "id": "dLpYx9lDIUDa",
        "outputId": "e24f3232-b62b-45eb-e5df-5f89b650d6e7"
      },
      "execution_count": null,
      "outputs": [
        {
          "output_type": "stream",
          "name": "stdout",
          "text": [
            "Chest Data Type: <class 'dict'>\n",
            "Chest Data Shape: No shape attribute\n",
            "Wrist Data Type: <class 'dict'>\n",
            "Wrist Data Shape: No shape attribute\n"
          ]
        }
      ]
    },
    {
      "cell_type": "code",
      "source": [
        "# Check the keys and a sample of the contents in chest_data and wrist_data\n",
        "print(\"Chest Data Keys:\", chest_data.keys())\n",
        "print(\"Wrist Data Keys:\", wrist_data.keys())\n",
        "\n",
        "# Optionally print a sample of the data\n",
        "print(\"Sample Chest Data:\", chest_data)\n",
        "print(\"Sample Wrist Data:\", wrist_data)\n"
      ],
      "metadata": {
        "colab": {
          "base_uri": "https://localhost:8080/"
        },
        "id": "77Lsz4rdIbKt",
        "outputId": "3f13fedf-49f8-4b9d-8415-c09609c46ab7"
      },
      "execution_count": null,
      "outputs": [
        {
          "output_type": "stream",
          "name": "stdout",
          "text": [
            "Chest Data Keys: dict_keys(['ACC', 'ECG', 'EMG', 'EDA', 'Temp', 'Resp'])\n",
            "Wrist Data Keys: dict_keys(['ACC', 'BVP', 'EDA', 'TEMP'])\n",
            "Sample Chest Data: {'ACC': array([[ 0.95539999, -0.222     , -0.55799997],\n",
            "       [ 0.92579997, -0.2216    , -0.55379999],\n",
            "       [ 0.90820003, -0.21960002, -0.53920001],\n",
            "       ...,\n",
            "       [ 0.87179995, -0.12379998, -0.30419999],\n",
            "       [ 0.87300003, -0.12339997, -0.30260003],\n",
            "       [ 0.87020004, -0.12199998, -0.30220002]]), 'ECG': array([[ 0.02142334],\n",
            "       [ 0.02032471],\n",
            "       [ 0.01652527],\n",
            "       ...,\n",
            "       [-0.00544739],\n",
            "       [ 0.00013733],\n",
            "       [ 0.0040741 ]]), 'EMG': array([[-0.00444031],\n",
            "       [ 0.00434875],\n",
            "       [ 0.00517273],\n",
            "       ...,\n",
            "       [-0.01716614],\n",
            "       [-0.02897644],\n",
            "       [-0.02357483]]), 'EDA': array([[5.25054932],\n",
            "       [5.26733398],\n",
            "       [5.24330139],\n",
            "       ...,\n",
            "       [0.36048889],\n",
            "       [0.36582947],\n",
            "       [0.365448  ]]), 'Temp': array([[30.120758],\n",
            "       [30.129517],\n",
            "       [30.138214],\n",
            "       ...,\n",
            "       [31.459229],\n",
            "       [31.484283],\n",
            "       [31.456268]], dtype=float32), 'Resp': array([[-1.14898682],\n",
            "       [-1.12457275],\n",
            "       [-1.15203857],\n",
            "       ...,\n",
            "       [-1.10321045],\n",
            "       [-1.08642578],\n",
            "       [-1.09710693]])}\n",
            "Sample Wrist Data: {'ACC': array([[ 62., -21., 107.],\n",
            "       [ 66.,  13.,  53.],\n",
            "       [ 41.,   9.,  15.],\n",
            "       ...,\n",
            "       [ 41.,  25.,  11.],\n",
            "       [ 39.,  27.,  22.],\n",
            "       [ 56.,  26.,  10.]]), 'BVP': array([[-59.37],\n",
            "       [-53.42],\n",
            "       [-44.4 ],\n",
            "       ...,\n",
            "       [ 18.26],\n",
            "       [ 18.68],\n",
            "       [ 19.71]]), 'EDA': array([[1.138257],\n",
            "       [1.125444],\n",
            "       [1.011405],\n",
            "       ...,\n",
            "       [0.059208],\n",
            "       [0.073303],\n",
            "       [0.045113]]), 'TEMP': array([[35.41],\n",
            "       [35.41],\n",
            "       [35.41],\n",
            "       ...,\n",
            "       [34.23],\n",
            "       [34.23],\n",
            "       [34.23]])}\n"
          ]
        }
      ]
    },
    {
      "cell_type": "code",
      "source": [
        "# Print the keys of chest_data and wrist_data\n",
        "print(\"Chest Data Keys:\", chest_data.keys())\n",
        "print(\"Wrist Data Keys:\", wrist_data.keys())\n"
      ],
      "metadata": {
        "colab": {
          "base_uri": "https://localhost:8080/"
        },
        "id": "GtrTTO9tIxYY",
        "outputId": "86cbf5fb-0815-4686-f34c-8b17e2a05cfd"
      },
      "execution_count": null,
      "outputs": [
        {
          "output_type": "stream",
          "name": "stdout",
          "text": [
            "Chest Data Keys: dict_keys(['ACC', 'ECG', 'EMG', 'EDA', 'Temp', 'Resp'])\n",
            "Wrist Data Keys: dict_keys(['ACC', 'BVP', 'EDA', 'TEMP'])\n"
          ]
        }
      ]
    },
    {
      "cell_type": "code",
      "source": [
        "# Extracting data from chest_data\n",
        "acc_chest = chest_data['ACC']  # Chest accelerometer data\n",
        "ecg_chest = chest_data['ECG']   # Chest ECG data\n",
        "emg_chest = chest_data['EMG']   # Chest EMG data\n",
        "eda_chest = chest_data['EDA']   # Chest EDA data\n",
        "temp_chest = chest_data['Temp'] # Chest temperature data\n",
        "resp_chest = chest_data['Resp'] # Chest respiration data\n",
        "\n",
        "# Extracting data from wrist_data\n",
        "acc_wrist = wrist_data['ACC']   # Wrist accelerometer data\n",
        "bvp_wrist = wrist_data['BVP']    # Wrist BVP data\n",
        "eda_wrist = wrist_data['EDA']    # Wrist EDA data\n",
        "temp_wrist = wrist_data['TEMP']   # Wrist temperature data\n"
      ],
      "metadata": {
        "id": "f_KMqYhrJk1E"
      },
      "execution_count": null,
      "outputs": []
    },
    {
      "cell_type": "code",
      "source": [
        "# Check type and shape of chest data\n",
        "print(\"Chest ACC Type:\", type(acc_chest))\n",
        "print(\"Chest ACC Shape:\", acc_chest.shape if isinstance(acc_chest, np.ndarray) else \"Not an array\")\n",
        "\n",
        "# Repeat for other chest data...\n",
        "print(\"Chest ECG Type:\", type(ecg_chest))\n",
        "print(\"Chest ECG Shape:\", ecg_chest.shape if isinstance(ecg_chest, np.ndarray) else \"Not an array\")\n",
        "\n",
        "# Check type and shape of wrist data\n",
        "print(\"Wrist ACC Type:\", type(acc_wrist))\n",
        "print(\"Wrist ACC Shape:\", acc_wrist.shape if isinstance(acc_wrist, np.ndarray) else \"Not an array\")\n",
        "\n",
        "# Repeat for other wrist data...\n",
        "print(\"Wrist BVP Type:\", type(bvp_wrist))\n",
        "print(\"Wrist BVP Shape:\", bvp_wrist.shape if isinstance(bvp_wrist, np.ndarray) else \"Not an array\")\n"
      ],
      "metadata": {
        "colab": {
          "base_uri": "https://localhost:8080/"
        },
        "id": "qyZj5kWJKW90",
        "outputId": "8dc6169b-bf47-4a6b-9fcc-d96db14c4a54"
      },
      "execution_count": null,
      "outputs": [
        {
          "output_type": "stream",
          "name": "stdout",
          "text": [
            "Chest ACC Type: <class 'numpy.ndarray'>\n",
            "Chest ACC Shape: (4255300, 3)\n",
            "Chest ECG Type: <class 'numpy.ndarray'>\n",
            "Chest ECG Shape: (4255300, 1)\n",
            "Wrist ACC Type: <class 'numpy.ndarray'>\n",
            "Wrist ACC Shape: (194528, 3)\n",
            "Wrist BVP Type: <class 'numpy.ndarray'>\n",
            "Wrist BVP Shape: (389056, 1)\n"
          ]
        }
      ]
    },
    {
      "cell_type": "code",
      "source": [
        "import pandas as pd\n",
        "\n",
        "# Convert chest data to DataFrames\n",
        "acc_chest_df = pd.DataFrame(acc_chest) if isinstance(acc_chest, (np.ndarray, list)) else None\n",
        "ecg_chest_df = pd.DataFrame(ecg_chest) if isinstance(ecg_chest, (np.ndarray, list)) else None\n",
        "emg_chest_df = pd.DataFrame(emg_chest) if isinstance(emg_chest, (np.ndarray, list)) else None\n",
        "eda_chest_df = pd.DataFrame(eda_chest) if isinstance(eda_chest, (np.ndarray, list)) else None\n",
        "temp_chest_df = pd.DataFrame(temp_chest) if isinstance(temp_chest, (np.ndarray, list)) else None\n",
        "resp_chest_df = pd.DataFrame(resp_chest) if isinstance(resp_chest, (np.ndarray, list)) else None\n",
        "\n",
        "# Convert wrist data to DataFrames\n",
        "acc_wrist_df = pd.DataFrame(acc_wrist) if isinstance(acc_wrist, (np.ndarray, list)) else None\n",
        "bvp_wrist_df = pd.DataFrame(bvp_wrist) if isinstance(bvp_wrist, (np.ndarray, list)) else None\n",
        "eda_wrist_df = pd.DataFrame(eda_wrist) if isinstance(eda_wrist, (np.ndarray, list)) else None\n",
        "temp_wrist_df = pd.DataFrame(temp_wrist) if isinstance(temp_wrist, (np.ndarray, list)) else None\n",
        "\n",
        "# Print the shapes of the DataFrames\n",
        "print(\"Chest ACC DataFrame Shape:\", acc_chest_df.shape if acc_chest_df is not None else \"Not converted\")\n",
        "print(\"Wrist ACC DataFrame Shape:\", acc_wrist_df.shape if acc_wrist_df is not None else \"Not converted\")\n"
      ],
      "metadata": {
        "colab": {
          "base_uri": "https://localhost:8080/"
        },
        "id": "oXG5MfoWKaUP",
        "outputId": "5d36f594-e177-4acf-84ea-fd7d02b6de36"
      },
      "execution_count": null,
      "outputs": [
        {
          "output_type": "stream",
          "name": "stdout",
          "text": [
            "Chest ACC DataFrame Shape: (4255300, 3)\n",
            "Wrist ACC DataFrame Shape: (194528, 3)\n"
          ]
        }
      ]
    },
    {
      "cell_type": "code",
      "source": [
        "import matplotlib.pyplot as plt\n",
        "\n",
        "if acc_chest_df is not None:\n",
        "    plt.figure(figsize=(12, 6))\n",
        "    plt.plot(acc_chest_df)\n",
        "    plt.title('Chest Accelerometer Data')\n",
        "    plt.xlabel('Samples')\n",
        "    plt.ylabel('Acceleration (g)')\n",
        "    plt.legend(['X-axis', 'Y-axis', 'Z-axis'])  # Update according to your data dimensions\n",
        "    plt.show()\n"
      ],
      "metadata": {
        "colab": {
          "base_uri": "https://localhost:8080/",
          "height": 564
        },
        "id": "GFNyFwIoKfgQ",
        "outputId": "bbf51f28-7c33-4239-8310-94035395a651"
      },
      "execution_count": null,
      "outputs": [
        {
          "output_type": "display_data",
          "data": {
            "text/plain": [
              "<Figure size 1200x600 with 1 Axes>"
            ],
            "image/png": "[encoded data removed]"
          },
          "metadata": {}
        }
      ]
    },
    {
      "cell_type": "code",
      "source": [
        "if bvp_wrist_df is not None:\n",
        "    plt.figure(figsize=(12, 6))\n",
        "    plt.plot(bvp_wrist_df)\n",
        "    plt.title('Wrist BVP Data')\n",
        "    plt.xlabel('Samples')\n",
        "    plt.ylabel('BVP')\n",
        "    plt.legend(['BVP'])  # Update according to your data dimensions\n",
        "    plt.show()\n"
      ],
      "metadata": {
        "colab": {
          "base_uri": "https://localhost:8080/",
          "height": 564
        },
        "id": "12M_1v5VKkbA",
        "outputId": "904aa683-b4b8-40b9-d5ca-278ecc66c39e"
      },
      "execution_count": null,
      "outputs": [
        {
          "output_type": "display_data",
          "data": {
            "text/plain": [
              "<Figure size 1200x600 with 1 Axes>"
            ],
            "image/png": "[encoded data removed]"
          },
          "metadata": {}
        }
      ]
    },
    {
      "cell_type": "code",
      "source": [
        "print(\"Chest ACC Mean:\", acc_chest_df.mean())\n",
        "print(\"Wrist BVP Mean:\", bvp_wrist_df.mean())\n"
      ],
      "metadata": {
        "colab": {
          "base_uri": "https://localhost:8080/"
        },
        "id": "7Rt_Ns1SKt9A",
        "outputId": "6126aa25-49d6-44ff-83b0-c1d153f8d543"
      },
      "execution_count": null,
      "outputs": [
        {
          "output_type": "stream",
          "name": "stdout",
          "text": [
            "Chest ACC Mean: 0    0.753866\n",
            "1   -0.133188\n",
            "2   -0.422681\n",
            "dtype: float64\n",
            "Wrist BVP Mean: 0   -0.000427\n",
            "dtype: float64\n"
          ]
        }
      ]
    },
    {
      "cell_type": "code",
      "source": [
        "correlation_matrix = acc_chest_df.corr()\n",
        "print(\"Chest ACC Correlation Matrix:\\n\", correlation_matrix)\n"
      ],
      "metadata": {
        "colab": {
          "base_uri": "https://localhost:8080/"
        },
        "id": "ZkYHCErVK2gN",
        "outputId": "517db039-1ae3-429b-f26a-9fce7b0b2925"
      },
      "execution_count": null,
      "outputs": [
        {
          "output_type": "stream",
          "name": "stdout",
          "text": [
            "Chest ACC Correlation Matrix:\n",
            "           0         1         2\n",
            "0  1.000000  0.356080  0.908117\n",
            "1  0.356080  1.000000  0.215306\n",
            "2  0.908117  0.215306  1.000000\n"
          ]
        }
      ]
    },
    {
      "cell_type": "code",
      "source": [
        "from sklearn.model_selection import train_test_split\n",
        "\n",
        "# Example: Using chest accelerometer data and some labels\n",
        "X = acc_chest_df  # Features\n",
        "y = labels  # Assuming you have a label array\n",
        "\n",
        "X_train, X_test, y_train, y_test = train_test_split(X, y, test_size=0.2, random_state=42)\n"
      ],
      "metadata": {
        "id": "JCWRTzmJK5Db"
      },
      "execution_count": null,
      "outputs": []
    },
    {
      "cell_type": "code",
      "source": [
        "import pickle\n",
        "import pandas as pd\n",
        "import numpy as np\n",
        "\n",
        "# Load the S2.pkl file again (ensure to use the correct encoding)\n",
        "with open('S2.pkl', 'rb') as file:\n",
        "    data = pickle.load(file, encoding='latin1')  # Use 'latin1' to avoid UnicodeDecodeError\n",
        "\n",
        "# Extract chest and wrist data\n",
        "chest_data = data['chest']\n",
        "wrist_data = data['wrist']\n",
        "\n",
        "# Extract relevant keys\n",
        "acc_chest = chest_data['ACC']\n",
        "ecg_chest = chest_data['ECG']\n",
        "eda_chest = chest_data['EDA']\n",
        "# Assuming you want to focus on ACC for model training\n",
        "labels = data['labels']  # Ensure you have your labels as well\n",
        "\n",
        "# Convert to DataFrame if needed\n",
        "acc_chest_df = pd.DataFrame(acc_chest)\n"
      ],
      "metadata": {
        "colab": {
          "base_uri": "https://localhost:8080/",
          "height": 219
        },
        "id": "FT19n8RMLEHs",
        "outputId": "b2321f53-5d18-456c-af02-1511154b5b66"
      },
      "execution_count": null,
      "outputs": [
        {
          "output_type": "error",
          "ename": "KeyError",
          "evalue": "'chest'",
          "traceback": [
            "\u001b[0;31m---------------------------------------------------------------------------\u001b[0m",
            "\u001b[0;31mKeyError\u001b[0m                                  Traceback (most recent call last)",
            "\u001b[0;32m<ipython-input-47-8daef9f80584>\u001b[0m in \u001b[0;36m<cell line: 10>\u001b[0;34m()\u001b[0m\n\u001b[1;32m      8\u001b[0m \u001b[0;34m\u001b[0m\u001b[0m\n\u001b[1;32m      9\u001b[0m \u001b[0;31m# Extract chest and wrist data\u001b[0m\u001b[0;34m\u001b[0m\u001b[0;34m\u001b[0m\u001b[0m\n\u001b[0;32m---> 10\u001b[0;31m \u001b[0mchest_data\u001b[0m \u001b[0;34m=\u001b[0m \u001b[0mdata\u001b[0m\u001b[0;34m[\u001b[0m\u001b[0;34m'chest'\u001b[0m\u001b[0;34m]\u001b[0m\u001b[0;34m\u001b[0m\u001b[0;34m\u001b[0m\u001b[0m\n\u001b[0m\u001b[1;32m     11\u001b[0m \u001b[0mwrist_data\u001b[0m \u001b[0;34m=\u001b[0m \u001b[0mdata\u001b[0m\u001b[0;34m[\u001b[0m\u001b[0;34m'wrist'\u001b[0m\u001b[0;34m]\u001b[0m\u001b[0;34m\u001b[0m\u001b[0;34m\u001b[0m\u001b[0m\n\u001b[1;32m     12\u001b[0m \u001b[0;34m\u001b[0m\u001b[0m\n",
            "\u001b[0;31mKeyError\u001b[0m: 'chest'"
          ]
        }
      ]
    },
    {
      "cell_type": "code",
      "source": [],
      "metadata": {
        "id": "T1i0_xdeNKqu"
      },
      "execution_count": null,
      "outputs": []
    }
  ]
}